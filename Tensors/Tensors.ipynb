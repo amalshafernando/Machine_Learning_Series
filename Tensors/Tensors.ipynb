{
 "cells": [
  {
   "cell_type": "code",
   "execution_count": 3,
   "id": "7908bdf0",
   "metadata": {},
   "outputs": [],
   "source": [
    "import numpy as np"
   ]
  },
  {
   "cell_type": "markdown",
   "id": "4fa120cd",
   "metadata": {},
   "source": [
    "## 0D Tensors"
   ]
  },
  {
   "cell_type": "code",
   "execution_count": 4,
   "id": "b0a7381d",
   "metadata": {},
   "outputs": [],
   "source": [
    "a = np. array(2)"
   ]
  },
  {
   "cell_type": "code",
   "execution_count": 5,
   "id": "4996e010",
   "metadata": {},
   "outputs": [
    {
     "data": {
      "text/plain": [
       "array(2)"
      ]
     },
     "execution_count": 5,
     "metadata": {},
     "output_type": "execute_result"
    }
   ],
   "source": [
    "a"
   ]
  },
  {
   "cell_type": "code",
   "execution_count": 6,
   "id": "acf3533b",
   "metadata": {},
   "outputs": [
    {
     "data": {
      "text/plain": [
       "0"
      ]
     },
     "execution_count": 6,
     "metadata": {},
     "output_type": "execute_result"
    }
   ],
   "source": [
    "a.ndim"
   ]
  },
  {
   "cell_type": "markdown",
   "id": "95e8fe64",
   "metadata": {},
   "source": [
    "## 1D Tensor (vector)\n",
    "\n"
   ]
  },
  {
   "cell_type": "code",
   "execution_count": 7,
   "id": "89e03a2a",
   "metadata": {},
   "outputs": [],
   "source": [
    "arr = np.array ([1,2,3,4])"
   ]
  },
  {
   "cell_type": "code",
   "execution_count": 8,
   "id": "6ed1c760",
   "metadata": {},
   "outputs": [
    {
     "data": {
      "text/plain": [
       "array([1, 2, 3, 4])"
      ]
     },
     "execution_count": 8,
     "metadata": {},
     "output_type": "execute_result"
    }
   ],
   "source": [
    "arr"
   ]
  },
  {
   "cell_type": "code",
   "execution_count": 10,
   "id": "26b07749",
   "metadata": {},
   "outputs": [
    {
     "data": {
      "text/plain": [
       "1"
      ]
     },
     "execution_count": 10,
     "metadata": {},
     "output_type": "execute_result"
    }
   ],
   "source": [
    "arr.ndim"
   ]
  },
  {
   "cell_type": "markdown",
   "id": "665e8755",
   "metadata": {},
   "source": [
    "## 2D Tensors"
   ]
  },
  {
   "cell_type": "code",
   "execution_count": 15,
   "id": "3c35bcf5",
   "metadata": {},
   "outputs": [],
   "source": [
    "ad_array = np.array( [ [1,2,3] , [4,5,6], [7,8,9] ])\n"
   ]
  },
  {
   "cell_type": "code",
   "execution_count": 16,
   "id": "8a4aed4d",
   "metadata": {},
   "outputs": [
    {
     "data": {
      "text/plain": [
       "array([[1, 2, 3],\n",
       "       [4, 5, 6],\n",
       "       [7, 8, 9]])"
      ]
     },
     "execution_count": 16,
     "metadata": {},
     "output_type": "execute_result"
    }
   ],
   "source": [
    "ad_array "
   ]
  },
  {
   "cell_type": "code",
   "execution_count": 17,
   "id": "510dfdbc",
   "metadata": {},
   "outputs": [
    {
     "data": {
      "text/plain": [
       "2"
      ]
     },
     "execution_count": 17,
     "metadata": {},
     "output_type": "execute_result"
    }
   ],
   "source": [
    "ad_array .ndim"
   ]
  },
  {
   "cell_type": "code",
   "execution_count": null,
   "id": "38f97f35",
   "metadata": {},
   "outputs": [],
   "source": []
  }
 ],
 "metadata": {
  "kernelspec": {
   "display_name": "Python 3 (ipykernel)",
   "language": "python",
   "name": "python3"
  },
  "language_info": {
   "codemirror_mode": {
    "name": "ipython",
    "version": 3
   },
   "file_extension": ".py",
   "mimetype": "text/x-python",
   "name": "python",
   "nbconvert_exporter": "python",
   "pygments_lexer": "ipython3",
   "version": "3.9.12"
  }
 },
 "nbformat": 4,
 "nbformat_minor": 5
}
